{
 "cells": [
  {
   "cell_type": "code",
   "execution_count": 1,
   "id": "e3aa2aff",
   "metadata": {},
   "outputs": [
    {
     "name": "stdout",
     "output_type": "stream",
     "text": [
      "10\n",
      "[[-1. -1. -1.  1.  1.  1. -1.  1.  1.  1.]\n",
      " [ 1. -1.  1. -1.  1.  1.  1. -1.  1. -1.]\n",
      " [ 1. -1.  1.  1. -1.  1. -1. -1. -1.  1.]\n",
      " [-1. -1.  1.  1. -1. -1.  1. -1. -1. -1.]\n",
      " [ 1.  1. -1. -1. -1. -1.  1.  1. -1. -1.]\n",
      " [-1.  1. -1.  1.  1. -1. -1. -1. -1.  1.]\n",
      " [ 1. -1.  1. -1.  1. -1. -1.  1. -1. -1.]\n",
      " [ 1.  1. -1. -1.  1. -1.  1.  1. -1.  1.]\n",
      " [ 1. -1. -1. -1.  1. -1. -1. -1.  1. -1.]\n",
      " [-1. -1. -1.  1.  1. -1. -1.  1. -1.  1.]]\n",
      "-12.0\n"
     ]
    }
   ],
   "source": [
    "import numpy as np #ввод\n",
    "import random \n",
    "m=[1,-1] \n",
    "v=0\n",
    "n=int(input())\n",
    "a=np.zeros((n,n))\n",
    "for i in range(n):\n",
    "    for j in range(n):\n",
    "        a[i,j]=random.choice(m)\n",
    "print(a)\n",
    "for i in range(n):\n",
    "    for j in range(n):\n",
    "        v+=a[i,j]*a[i,j-1]\n",
    "        v+=a[i-1,j]*a[i,j]        \n",
    "print(v)"
   ]
  },
  {
   "cell_type": "code",
   "execution_count": null,
   "id": "50ab5faa",
   "metadata": {},
   "outputs": [],
   "source": []
  }
 ],
 "metadata": {
  "kernelspec": {
   "display_name": "Python 3 (ipykernel)",
   "language": "python",
   "name": "python3"
  },
  "language_info": {
   "codemirror_mode": {
    "name": "ipython",
    "version": 3
   },
   "file_extension": ".py",
   "mimetype": "text/x-python",
   "name": "python",
   "nbconvert_exporter": "python",
   "pygments_lexer": "ipython3",
   "version": "3.9.7"
  }
 },
 "nbformat": 4,
 "nbformat_minor": 5
}
