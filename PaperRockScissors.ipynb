{
 "cells": [
  {
   "cell_type": "code",
   "execution_count": 5,
   "id": "2d0695bc",
   "metadata": {},
   "outputs": [
    {
     "name": "stdout",
     "output_type": "stream",
     "text": [
      "rock/paper/scissors rock\n",
      "paper\n",
      "lost\n"
     ]
    }
   ],
   "source": [
    "import random \n",
    "c=['rock', 'paper', 'scissors']\n",
    "d = random.choice(c)\n",
    "b = str(input('rock/paper/scissors '))\n",
    "def game():\n",
    "    if b == 'rock':\n",
    "        if d=='rock':\n",
    "            return 'draw'\n",
    "        elif d=='paper':\n",
    "            return 'lost'\n",
    "        else:\n",
    "            return 'win'\n",
    "    elif b == 'paper':\n",
    "        if d=='rock':\n",
    "            return 'win'\n",
    "        elif d=='paper':\n",
    "            return 'draw'\n",
    "        else:\n",
    "            return 'lost'\n",
    "    elif b == 'scissors':\n",
    "        if d=='rock':\n",
    "            return 'lost'\n",
    "        elif d=='paper':\n",
    "            return 'win'\n",
    "        else:\n",
    "            return 'draw'\n",
    "k=game()\n",
    "print(d)\n",
    "print(k)"
   ]
  },
  {
   "cell_type": "code",
   "execution_count": null,
   "id": "f219108b",
   "metadata": {},
   "outputs": [],
   "source": []
  }
 ],
 "metadata": {
  "kernelspec": {
   "display_name": "Python 3 (ipykernel)",
   "language": "python",
   "name": "python3"
  },
  "language_info": {
   "codemirror_mode": {
    "name": "ipython",
    "version": 3
   },
   "file_extension": ".py",
   "mimetype": "text/x-python",
   "name": "python",
   "nbconvert_exporter": "python",
   "pygments_lexer": "ipython3",
   "version": "3.9.7"
  }
 },
 "nbformat": 4,
 "nbformat_minor": 5
}
