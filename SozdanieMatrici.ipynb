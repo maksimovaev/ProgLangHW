{
 "cells": [
  {
   "cell_type": "code",
   "execution_count": 4,
   "id": "e3aa2aff",
   "metadata": {},
   "outputs": [
    {
     "name": "stdout",
     "output_type": "stream",
     "text": [
      "10 10\n",
      "[[49, 49, 49, 49, 49, 49, 49, 49, 49, 49], [5, 5, 5, 5, 5, 5, 5, 5, 5, 5], [12, 12, 12, 12, 12, 12, 12, 12, 12, 12], [53, 53, 53, 53, 53, 53, 53, 53, 53, 53], [23, 23, 23, 23, 23, 23, 23, 23, 23, 23], [37, 37, 37, 37, 37, 37, 37, 37, 37, 37], [42, 42, 42, 42, 42, 42, 42, 42, 42, 42], [10, 10, 10, 10, 10, 10, 10, 10, 10, 10], [12, 12, 12, 12, 12, 12, 12, 12, 12, 12], [56, 56, 56, 56, 56, 56, 56, 56, 56, 56]]\n"
     ]
    }
   ],
   "source": [
    "import random\n",
    "a, b = map(int, input().split())\n",
    "c = [[random.randint(0, 101)] * a for i in range(b)]\n",
    "print(c)"
   ]
  },
  {
   "cell_type": "code",
   "execution_count": null,
   "id": "50ab5faa",
   "metadata": {},
   "outputs": [],
   "source": []
  },
  {
   "cell_type": "code",
   "execution_count": null,
   "id": "80e61991",
   "metadata": {},
   "outputs": [],
   "source": []
  }
 ],
 "metadata": {
  "kernelspec": {
   "display_name": "Python 3 (ipykernel)",
   "language": "python",
   "name": "python3"
  },
  "language_info": {
   "codemirror_mode": {
    "name": "ipython",
    "version": 3
   },
   "file_extension": ".py",
   "mimetype": "text/x-python",
   "name": "python",
   "nbconvert_exporter": "python",
   "pygments_lexer": "ipython3",
   "version": "3.9.7"
  }
 },
 "nbformat": 4,
 "nbformat_minor": 5
}
