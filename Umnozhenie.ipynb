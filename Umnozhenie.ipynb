{
 "cells": [
  {
   "cell_type": "code",
   "execution_count": 5,
   "id": "e3aa2aff",
   "metadata": {},
   "outputs": [
    {
     "name": "stdout",
     "output_type": "stream",
     "text": [
      "10\n",
      "10.0  *  1.0  =  10.0\n",
      "10.0  *  1.5  =  15.0\n",
      "10.0  *  2.0  =  20.0\n",
      "10.0  *  2.5  =  25.0\n",
      "10.0  *  3.0  =  30.0\n",
      "10.0  *  3.5  =  35.0\n",
      "10.0  *  4.0  =  40.0\n",
      "10.0  *  4.5  =  45.0\n",
      "10.0  *  5.0  =  50.0\n",
      "10.0  *  5.5  =  55.0\n",
      "10.0  *  6.0  =  60.0\n",
      "10.0  *  6.5  =  65.0\n",
      "10.0  *  7.0  =  70.0\n",
      "10.0  *  7.5  =  75.0\n",
      "10.0  *  8.0  =  80.0\n",
      "10.0  *  8.5  =  85.0\n",
      "10.0  *  9.0  =  90.0\n",
      "10.0  *  9.5  =  95.0\n",
      "10.0  *  10.0  =  100.0\n",
      "10.0  *  10.5  =  105.0\n",
      "10.0  *  11.0  =  110.0\n",
      "10.0  *  11.5  =  115.0\n",
      "10.0  *  12.0  =  120.0\n",
      "10.0  *  12.5  =  125.0\n",
      "10.0  *  13.0  =  130.0\n",
      "10.0  *  13.5  =  135.0\n",
      "10.0  *  14.0  =  140.0\n",
      "10.0  *  14.5  =  145.0\n",
      "10.0  *  15.0  =  150.0\n",
      "10.0  *  15.5  =  155.0\n"
     ]
    }
   ],
   "source": [
    "import numpy as np\n",
    "f = float(input())\n",
    "for i in np.arange(1, 16, 0.5):\n",
    "    print(f, ' * ', i, ' = ', f * i)"
   ]
  },
  {
   "cell_type": "code",
   "execution_count": null,
   "id": "50ab5faa",
   "metadata": {},
   "outputs": [],
   "source": []
  },
  {
   "cell_type": "code",
   "execution_count": null,
   "id": "b4ec7a61",
   "metadata": {},
   "outputs": [],
   "source": []
  }
 ],
 "metadata": {
  "kernelspec": {
   "display_name": "Python 3 (ipykernel)",
   "language": "python",
   "name": "python3"
  },
  "language_info": {
   "codemirror_mode": {
    "name": "ipython",
    "version": 3
   },
   "file_extension": ".py",
   "mimetype": "text/x-python",
   "name": "python",
   "nbconvert_exporter": "python",
   "pygments_lexer": "ipython3",
   "version": "3.9.7"
  }
 },
 "nbformat": 4,
 "nbformat_minor": 5
}
