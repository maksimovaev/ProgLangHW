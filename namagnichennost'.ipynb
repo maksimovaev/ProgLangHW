{
 "cells": [
  {
   "cell_type": "code",
   "execution_count": 2,
   "id": "d734ac13",
   "metadata": {},
   "outputs": [
    {
     "name": "stdout",
     "output_type": "stream",
     "text": [
      "Введите размер матрицы 50\n",
      "Введите количество повторов 25000\n",
      "[[-1. -1.  1. ... -1. -1.  1.]\n",
      " [ 1.  1. -1. ... -1.  1.  1.]\n",
      " [-1. -1.  1. ...  1.  1.  1.]\n",
      " ...\n",
      " [-1. -1.  1. ...  1. -1. -1.]\n",
      " [-1.  1.  1. ... -1.  1. -1.]\n",
      " [-1. -1. -1. ...  1. -1.  1.]]\n",
      "9000128.0\n",
      "0.1\n",
      "0.144002048\n",
      "14445834.0\n",
      "0.2\n",
      "0.231133344\n",
      "16094602.0\n",
      "0.30000000000000004\n",
      "0.257513632\n",
      "17907894.0\n",
      "0.4\n",
      "0.286526304\n",
      "19764052.0\n",
      "0.5\n",
      "0.316224832\n",
      "[0.1, 0.2, 0.30000000000000004, 0.4, 0.5] [0.144002048, 0.231133344, 0.257513632, 0.286526304, 0.316224832]\n"
     ]
    },
    {
     "data": {
      "image/png": "[encoded data removed]",
      "text/plain": [
       "<Figure size 432x288 with 1 Axes>"
      ]
     },
     "metadata": {
      "needs_background": "light"
     },
     "output_type": "display_data"
    },
    {
     "data": {
      "text/plain": [
       "<Figure size 432x288 with 0 Axes>"
      ]
     },
     "metadata": {},
     "output_type": "display_data"
    }
   ],
   "source": [
    "import numpy as np\n",
    "import random\n",
    "import matplotlib.pyplot as plt\n",
    "import os\n",
    "m=[1, -1]\n",
    "n=int(input('Введите размер матрицы '))\n",
    "a=np.zeros((n,n))\n",
    "h=int(input('Введите количество повторов '))\n",
    "l=0 \n",
    "L=0\n",
    "g=0\n",
    "x=[]\n",
    "y=[]\n",
    "k=5\n",
    "\n",
    "t=float(0.1)\n",
    "for i in range(n):\n",
    "    for j in range(n):\n",
    "        a[i, j]=random.choice(m)\n",
    "print(a)                                   \n",
    "c=a.copy()\n",
    "for g in range(k):\n",
    "    M=0\n",
    "    for l in range(h):                              #цикл для заполнения матрицы\n",
    "        s=0\n",
    "        b=a.copy()\n",
    "        summ1=0\n",
    "        summ2=0\n",
    "        b[random.randrange(n), random.randrange(n)]*=-1 \n",
    "        for i in range(n):\n",
    "            for j in range(n):\n",
    "                summ1+=a[i, j]*a[i, j-1]+a[i-1, j]*a[i, j]\n",
    "                summ2+=b[i, j]*b[i, j-1]+b[i-1, j]*b[i, j]\n",
    "\n",
    "        for i in range(n):\n",
    "            for j in range(n):\n",
    "                s+=a[i,j]\n",
    "        M += s\n",
    "\n",
    "        dsumm=-1*(summ2-summ1)                                 \n",
    "        if dsumm<=0:                                       \n",
    "            a=b.copy()\n",
    "        else:\n",
    "            w=np.exp(-dsumm/t)\n",
    "            p=round(random.uniform(0, 1), 5)\n",
    "            if w>=p:\n",
    "                c=a.copy()\n",
    "            elif w<0:\n",
    "                a=c.copy()\n",
    "    if M<0:\n",
    "        M=abs(M)\n",
    "        y.insert(0, M/(h*n*n))\n",
    "    else:\n",
    "        M=M\n",
    "        y.append(M/(h*n*n))\n",
    "    print(M)    \n",
    "    print(t)    \n",
    "    print(M/(h*n*n))\n",
    "    x.append(t)\n",
    "    t += 0.1\n",
    "print(x, y)\n",
    "plt.plot(x, y)\n",
    "fig1 = plt.gcf()\n",
    "plt.show()\n",
    "plt.draw()"
   ]
  },
  {
   "cell_type": "code",
   "execution_count": null,
   "id": "55d4d405",
   "metadata": {},
   "outputs": [],
   "source": []
  },
  {
   "cell_type": "code",
   "execution_count": null,
   "id": "c0859f77",
   "metadata": {},
   "outputs": [],
   "source": []
  }
 ],
 "metadata": {
  "kernelspec": {
   "display_name": "Python 3 (ipykernel)",
   "language": "python",
   "name": "python3"
  },
  "language_info": {
   "codemirror_mode": {
    "name": "ipython",
    "version": 3
   },
   "file_extension": ".py",
   "mimetype": "text/x-python",
   "name": "python",
   "nbconvert_exporter": "python",
   "pygments_lexer": "ipython3",
   "version": "3.9.7"
  }
 },
 "nbformat": 4,
 "nbformat_minor": 5
}
